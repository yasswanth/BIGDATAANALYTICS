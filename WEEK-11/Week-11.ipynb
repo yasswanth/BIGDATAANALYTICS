{
 "cells": [
  {
   "cell_type": "markdown",
   "id": "5f8909cd-6bff-4636-8f2d-e7a724f35842",
   "metadata": {},
   "source": [
    "### Create a DataFrame in PySpark by loading data from a CSV file and perform basic analytical operations "
   ]
  },
  {
   "cell_type": "code",
   "execution_count": 1,
   "id": "32d947fe-4868-405e-a12a-de8367df86f7",
   "metadata": {},
   "outputs": [
    {
     "data": {
      "text/html": [
       "\n",
       "        <div>\n",
       "            <p><b>SparkContext</b></p>\n",
       "\n",
       "            <p><a href=\"http://192.168.1.14:4045\">Spark UI</a></p>\n",
       "\n",
       "            <dl>\n",
       "              <dt>Version</dt>\n",
       "                <dd><code>v4.0.0</code></dd>\n",
       "              <dt>Master</dt>\n",
       "                <dd><code>local[*]</code></dd>\n",
       "              <dt>AppName</dt>\n",
       "                <dd><code>PySparkShell</code></dd>\n",
       "            </dl>\n",
       "        </div>\n",
       "        "
      ],
      "text/plain": [
       "<SparkContext master=local[*] appName=PySparkShell>"
      ]
     },
     "execution_count": 1,
     "metadata": {},
     "output_type": "execute_result"
    }
   ],
   "source": [
    "sc"
   ]
  },
  {
   "cell_type": "code",
   "execution_count": 2,
   "id": "8c7374d2-816b-4bca-ad9a-604f3e552aaf",
   "metadata": {},
   "outputs": [],
   "source": [
    "from pyspark.sql import SparkSession\n",
    "from pyspark.sql.functions import col, avg, max, min, round, count\n",
    "\n",
    "# Step 1: Initialize Spark Session\n",
    "spark = SparkSession.builder.appName(\"StudentsAnalytics\").getOrCreate()"
   ]
  },
  {
   "cell_type": "code",
   "execution_count": 3,
   "id": "5d817c64-c85e-4d8c-850d-c3409063fc7a",
   "metadata": {},
   "outputs": [],
   "source": [
    "# Step 2: Read CSV file into DataFrame\n",
    "df = spark.read.csv(\"students.csv\", header=True, inferSchema=True)"
   ]
  },
  {
   "cell_type": "code",
   "execution_count": 4,
   "id": "5579e323-9bb4-42a6-a8c2-43c74e043577",
   "metadata": {},
   "outputs": [
    {
     "name": "stdout",
     "output_type": "stream",
     "text": [
      "=== First 5 rows ===\n",
      "+---+-------+---+------+----+-------+-------+\n",
      "| id|   name|age|gender|math|science|english|\n",
      "+---+-------+---+------+----+-------+-------+\n",
      "|  1|  Alice| 20|     F|  66|     92|     44|\n",
      "|  2|    Bob| 20|     M|  82|     52|     77|\n",
      "|  3|Charlie| 22|     F|  43|     57|     76|\n",
      "|  4|  David| 19|     M|  95|     69|     46|\n",
      "|  5|    Eva| 19|     F|  62|     44|     96|\n",
      "+---+-------+---+------+----+-------+-------+\n",
      "only showing top 5 rows\n"
     ]
    }
   ],
   "source": [
    "# === Analytical Operations (10 max) ===\n",
    "\n",
    "# 1. View first 5 rows\n",
    "print(\"=== First 5 rows ===\")\n",
    "df.show(5)"
   ]
  },
  {
   "cell_type": "code",
   "execution_count": 5,
   "id": "3ce01282-b66f-4165-a9a7-1fa767150465",
   "metadata": {},
   "outputs": [
    {
     "name": "stdout",
     "output_type": "stream",
     "text": [
      "=== Schema ===\n",
      "root\n",
      " |-- id: integer (nullable = true)\n",
      " |-- name: string (nullable = true)\n",
      " |-- age: integer (nullable = true)\n",
      " |-- gender: string (nullable = true)\n",
      " |-- math: integer (nullable = true)\n",
      " |-- science: integer (nullable = true)\n",
      " |-- english: integer (nullable = true)\n",
      "\n"
     ]
    }
   ],
   "source": [
    "# 2. Print schema\n",
    "print(\"=== Schema ===\")\n",
    "df.printSchema()"
   ]
  },
  {
   "cell_type": "code",
   "execution_count": 6,
   "id": "795eca8c-2a94-4896-b4c0-8cea40ed181a",
   "metadata": {},
   "outputs": [
    {
     "name": "stdout",
     "output_type": "stream",
     "text": [
      "Total rows: 50\n"
     ]
    }
   ],
   "source": [
    "# 3. Count total rows\n",
    "print(\"Total rows:\", df.count())"
   ]
  },
  {
   "cell_type": "code",
   "execution_count": 7,
   "id": "c0214763-d430-47c4-aebc-30f386ed9c80",
   "metadata": {},
   "outputs": [
    {
     "name": "stdout",
     "output_type": "stream",
     "text": [
      "=== Summary Statistics ===\n",
      "+-------+------------------+-----+------------------+------+------------------+------------------+-----------------+\n",
      "|summary|                id| name|               age|gender|              math|           science|          english|\n",
      "+-------+------------------+-----+------------------+------+------------------+------------------+-----------------+\n",
      "|  count|                50|   50|                50|    50|                50|                50|               50|\n",
      "|   mean|              25.5| NULL|              21.5|  NULL|             68.94|             70.16|            69.36|\n",
      "| stddev|14.577379737113251| NULL|2.2337851101588404|  NULL|17.609610085034216|14.636214521186957|18.74507826560544|\n",
      "|    min|                 1|Aaron|                18|     F|                40|                44|               42|\n",
      "|    max|                50| Zoey|                25|     M|               100|                99|              100|\n",
      "+-------+------------------+-----+------------------+------+------------------+------------------+-----------------+\n",
      "\n"
     ]
    }
   ],
   "source": [
    "# 4. Show summary statistics (numeric columns)\n",
    "print(\"=== Summary Statistics ===\")\n",
    "df.describe().show()"
   ]
  },
  {
   "cell_type": "code",
   "execution_count": 8,
   "id": "44865a3a-fd0c-45c2-8db7-feccbeaeedc6",
   "metadata": {},
   "outputs": [
    {
     "name": "stdout",
     "output_type": "stream",
     "text": [
      "=== Students with math >= 80 ===\n",
      "+---+------+----+\n",
      "| id|  name|math|\n",
      "+---+------+----+\n",
      "|  2|   Bob|  82|\n",
      "|  4| David|  95|\n",
      "| 11| Kathy|  85|\n",
      "| 12|   Leo|  97|\n",
      "| 15|Olivia|  87|\n",
      "| 20|  Tina| 100|\n",
      "| 21|   Uma|  89|\n",
      "| 22|Victor|  96|\n",
      "| 25|  Yara| 100|\n",
      "| 27| Aaron|  81|\n",
      "+---+------+----+\n",
      "only showing top 10 rows\n"
     ]
    }
   ],
   "source": [
    "# 5. Select students with math >= 80\n",
    "print(\"=== Students with math >= 80 ===\")\n",
    "df.filter(col(\"math\") >= 80).select(\"id\", \"name\", \"math\").show(10)"
   ]
  },
  {
   "cell_type": "code",
   "execution_count": 9,
   "id": "60ebbb4f-988c-4ece-9eed-41c31d36332a",
   "metadata": {},
   "outputs": [
    {
     "name": "stdout",
     "output_type": "stream",
     "text": [
      "=== Average marks per subject ===\n",
      "+--------+-----------+-----------+\n",
      "|avg_math|avg_science|avg_english|\n",
      "+--------+-----------+-----------+\n",
      "|   68.94|      70.16|      69.36|\n",
      "+--------+-----------+-----------+\n",
      "\n"
     ]
    }
   ],
   "source": [
    "# 6. Calculate average marks per subject\n",
    "print(\"=== Average marks per subject ===\")\n",
    "df.select(\n",
    "    round(avg(\"math\"),2).alias(\"avg_math\"),\n",
    "    round(avg(\"science\"),2).alias(\"avg_science\"),\n",
    "    round(avg(\"english\"),2).alias(\"avg_english\")\n",
    ").show()"
   ]
  },
  {
   "cell_type": "code",
   "execution_count": 10,
   "id": "ca26d5b0-a6fa-4f94-98f4-a66dc9e3d749",
   "metadata": {},
   "outputs": [
    {
     "name": "stdout",
     "output_type": "stream",
     "text": [
      "=== Dataset with 'average' column ===\n",
      "+---+-------+---+------+----+-------+-------+-------+\n",
      "| id|   name|age|gender|math|science|english|average|\n",
      "+---+-------+---+------+----+-------+-------+-------+\n",
      "|  1|  Alice| 20|     F|  66|     92|     44|  67.33|\n",
      "|  2|    Bob| 20|     M|  82|     52|     77|  70.33|\n",
      "|  3|Charlie| 22|     F|  43|     57|     76|  58.67|\n",
      "|  4|  David| 19|     M|  95|     69|     46|   70.0|\n",
      "|  5|    Eva| 19|     F|  62|     44|     96|  67.33|\n",
      "+---+-------+---+------+----+-------+-------+-------+\n",
      "only showing top 5 rows\n"
     ]
    }
   ],
   "source": [
    "# 7. Add new column: average marks\n",
    "df_with_avg = df.withColumn(\"average\", round((col(\"math\")+col(\"science\")+col(\"english\"))/3,2))\n",
    "print(\"=== Dataset with 'average' column ===\")\n",
    "df_with_avg.show(5)"
   ]
  },
  {
   "cell_type": "code",
   "execution_count": 11,
   "id": "cc1a527b-d489-45b2-b3eb-0995a07196df",
   "metadata": {},
   "outputs": [
    {
     "name": "stdout",
     "output_type": "stream",
     "text": [
      "=== Topper ===\n",
      "+---+----+---+------+----+-------+-------+-------+\n",
      "| id|name|age|gender|math|science|english|average|\n",
      "+---+----+---+------+----+-------+-------+-------+\n",
      "| 12| Leo| 24|     M|  97|     84|     83|   88.0|\n",
      "+---+----+---+------+----+-------+-------+-------+\n",
      "\n"
     ]
    }
   ],
   "source": [
    "# 8. Find topper (student with max average)\n",
    "print(\"=== Topper ===\")\n",
    "df_with_avg.orderBy(col(\"average\").desc()).limit(1).show()"
   ]
  },
  {
   "cell_type": "code",
   "execution_count": 12,
   "id": "24278442-5fbf-439a-9639-700f0cf7d04e",
   "metadata": {},
   "outputs": [
    {
     "name": "stdout",
     "output_type": "stream",
     "text": [
      "=== Average marks by gender ===\n",
      "+------+--------+-----------+-----------+-----------+\n",
      "|gender|avg_math|avg_science|avg_english|overall_avg|\n",
      "+------+--------+-----------+-----------+-----------+\n",
      "|     F|   63.86|      68.55|      70.55|      67.66|\n",
      "|     M|   75.95|      72.38|      67.71|      72.02|\n",
      "+------+--------+-----------+-----------+-----------+\n",
      "\n"
     ]
    }
   ],
   "source": [
    "# 9. Group by gender → average marks\n",
    "print(\"=== Average marks by gender ===\")\n",
    "df_with_avg.groupBy(\"gender\").agg(\n",
    "    round(avg(\"math\"),2).alias(\"avg_math\"),\n",
    "    round(avg(\"science\"),2).alias(\"avg_science\"),\n",
    "    round(avg(\"english\"),2).alias(\"avg_english\"),\n",
    "    round(avg(\"average\"),2).alias(\"overall_avg\")\n",
    ").show()"
   ]
  },
  {
   "cell_type": "code",
   "execution_count": 13,
   "id": "2da7d8dc-e3a7-4dd5-ac03-41d0e7209152",
   "metadata": {},
   "outputs": [
    {
     "name": "stdout",
     "output_type": "stream",
     "text": [
      "=== Min & Max of each subject ===\n",
      "+--------+--------+-----------+-----------+-----------+-----------+\n",
      "|min_math|max_math|min_science|max_science|min_english|max_english|\n",
      "+--------+--------+-----------+-----------+-----------+-----------+\n",
      "|      40|     100|         44|         99|         42|        100|\n",
      "+--------+--------+-----------+-----------+-----------+-----------+\n",
      "\n"
     ]
    }
   ],
   "source": [
    "# 10. Find min and max of each subject\n",
    "print(\"=== Min & Max of each subject ===\")\n",
    "df.select(\n",
    "    min(\"math\").alias(\"min_math\"), max(\"math\").alias(\"max_math\"),\n",
    "    min(\"science\").alias(\"min_science\"), max(\"science\").alias(\"max_science\"),\n",
    "    min(\"english\").alias(\"min_english\"), max(\"english\").alias(\"max_english\")\n",
    ").show()"
   ]
  },
  {
   "cell_type": "code",
   "execution_count": 14,
   "id": "367e9e9b-cd44-42a1-bcf3-4e023d83aa7e",
   "metadata": {},
   "outputs": [],
   "source": [
    "# Stop Spark session\n",
    "# spark.stop()"
   ]
  }
 ],
 "metadata": {
  "kernelspec": {
   "display_name": "Python 3 (ipykernel)",
   "language": "python",
   "name": "python3"
  },
  "language_info": {
   "codemirror_mode": {
    "name": "ipython",
    "version": 3
   },
   "file_extension": ".py",
   "mimetype": "text/x-python",
   "name": "python",
   "nbconvert_exporter": "python",
   "pygments_lexer": "ipython3",
   "version": "3.11.1"
  }
 },
 "nbformat": 4,
 "nbformat_minor": 5
}
